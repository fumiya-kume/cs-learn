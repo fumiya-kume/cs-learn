{
  "cells": [
    {
      "cell_type": "markdown",
      "id": "6f63357d-507c-49a2-a197-0f07c7a8784a",
      "metadata": {
        "id": "6f63357d-507c-49a2-a197-0f07c7a8784a"
      },
      "source": [
        "# 卵を落とす問題\n",
        "100階建ての建物があります。N階以上の他kさから卵を落とすと卵は割れてしまいます。N階より下からであれば卵は割れません。２つの卵を使い、落とす回数をできるだけ少なくなるようにNを見つけてください。"
      ]
    },
    {
      "cell_type": "markdown",
      "id": "ee3962cc-051c-4a4c-a0b6-f1108d929caa",
      "metadata": {
        "id": "ee3962cc-051c-4a4c-a0b6-f1108d929caa"
      },
      "source": [
        "# 考え方\n",
        "2分探索を１つ目の卵を使い探索する。卵が割れたら候補の一番下から１つづつ落として調べていく。"
      ]
    },
    {
      "cell_type": "code",
      "execution_count": 119,
      "id": "598e3bdc-eb45-479d-b7fa-44d0d77caea3",
      "metadata": {
        "id": "598e3bdc-eb45-479d-b7fa-44d0d77caea3"
      },
      "outputs": [],
      "source": [
        "import pandas as pd\n",
        "import numpy as np\n",
        "import matplotlib.pyplot as plt\n",
        "import scipy.stats as stats"
      ]
    },
    {
      "cell_type": "code",
      "execution_count": 64,
      "id": "3f0f514f-23e1-4234-9e6e-122277153e53",
      "metadata": {
        "id": "3f0f514f-23e1-4234-9e6e-122277153e53"
      },
      "outputs": [],
      "source": [
        "def is_safe(floor, threshold):\n",
        "  if floor < threshold:\n",
        "    return True\n",
        "  else:\n",
        "    return False"
      ]
    },
    {
      "cell_type": "code",
      "source": [
        "def check(floors, number_of_egg, threshold):\n",
        "  if number_of_egg == 0:\n",
        "    # 現在の最小の階数-1が閾値となる階数\n",
        "    print(floors)\n",
        "    return floors[0]\n",
        "  elif number_of_egg == 1:\n",
        "    # 残り一つしか卵が残ってない場合は小さい階から順番に検査していく\n",
        "    if not(is_safe(floors[0], threshold)):\n",
        "      number_of_egg = number_of_egg - 1\n",
        "\n",
        "    if(len(floors) == 1):\n",
        "        return check(floors, 0, threshold)\n",
        "    \n",
        "    floors = np.delete(floors, np.s_[:1:])\n",
        "    return check(floors, number_of_egg, threshold)\n",
        "  else:\n",
        "    # 卵が２つ残ってる時は\n",
        "    if not(is_safe(floors[int(len(floors)/2)], threshold)):\n",
        "      number_of_egg = number_of_egg - 1\n",
        "\n",
        "    floors = np.delete(floors, np.s_[:int(len(floors)/2):])\n",
        "    # 上半分を検査していく\n",
        "    return check(floors, number_of_egg, threshold)\n",
        "\n",
        "column = [\"閾値\", \"結果\"]\n",
        "df1 = pd.DataFrame(data=[], columns=column)\n",
        "for x in range(10):\n",
        "  result = check(np.array(range(10)), 2, x)\n",
        "  df1 = df1.append(pd.DataFrame(data=[[str(x), str(result)]], columns=column))\n",
        "\n",
        "df1"
      ],
      "metadata": {
        "id": "bmUl7hNZe6f7",
        "outputId": "4d84fc27-7875-4aba-c9f4-0d2680899155",
        "colab": {
          "base_uri": "https://localhost:8080/",
          "height": 537
        }
      },
      "id": "bmUl7hNZe6f7",
      "execution_count": 141,
      "outputs": [
        {
          "output_type": "stream",
          "name": "stdout",
          "text": [
            "[6 7 8 9]\n",
            "[6 7 8 9]\n",
            "[6 7 8 9]\n",
            "[6 7 8 9]\n",
            "[6 7 8 9]\n",
            "[6 7 8 9]\n",
            "[8 9]\n",
            "[8 9]\n",
            "[9]\n",
            "[9]\n"
          ]
        },
        {
          "output_type": "execute_result",
          "data": {
            "text/html": [
              "\n",
              "  <div id=\"df-24ddfab2-0f32-4536-b28f-441e60473fdd\">\n",
              "    <div class=\"colab-df-container\">\n",
              "      <div>\n",
              "<style scoped>\n",
              "    .dataframe tbody tr th:only-of-type {\n",
              "        vertical-align: middle;\n",
              "    }\n",
              "\n",
              "    .dataframe tbody tr th {\n",
              "        vertical-align: top;\n",
              "    }\n",
              "\n",
              "    .dataframe thead th {\n",
              "        text-align: right;\n",
              "    }\n",
              "</style>\n",
              "<table border=\"1\" class=\"dataframe\">\n",
              "  <thead>\n",
              "    <tr style=\"text-align: right;\">\n",
              "      <th></th>\n",
              "      <th>閾値</th>\n",
              "      <th>結果</th>\n",
              "    </tr>\n",
              "  </thead>\n",
              "  <tbody>\n",
              "    <tr>\n",
              "      <th>0</th>\n",
              "      <td>0</td>\n",
              "      <td>6</td>\n",
              "    </tr>\n",
              "    <tr>\n",
              "      <th>0</th>\n",
              "      <td>1</td>\n",
              "      <td>6</td>\n",
              "    </tr>\n",
              "    <tr>\n",
              "      <th>0</th>\n",
              "      <td>2</td>\n",
              "      <td>6</td>\n",
              "    </tr>\n",
              "    <tr>\n",
              "      <th>0</th>\n",
              "      <td>3</td>\n",
              "      <td>6</td>\n",
              "    </tr>\n",
              "    <tr>\n",
              "      <th>0</th>\n",
              "      <td>4</td>\n",
              "      <td>6</td>\n",
              "    </tr>\n",
              "    <tr>\n",
              "      <th>0</th>\n",
              "      <td>5</td>\n",
              "      <td>6</td>\n",
              "    </tr>\n",
              "    <tr>\n",
              "      <th>0</th>\n",
              "      <td>6</td>\n",
              "      <td>8</td>\n",
              "    </tr>\n",
              "    <tr>\n",
              "      <th>0</th>\n",
              "      <td>7</td>\n",
              "      <td>8</td>\n",
              "    </tr>\n",
              "    <tr>\n",
              "      <th>0</th>\n",
              "      <td>8</td>\n",
              "      <td>9</td>\n",
              "    </tr>\n",
              "    <tr>\n",
              "      <th>0</th>\n",
              "      <td>9</td>\n",
              "      <td>9</td>\n",
              "    </tr>\n",
              "  </tbody>\n",
              "</table>\n",
              "</div>\n",
              "      <button class=\"colab-df-convert\" onclick=\"convertToInteractive('df-24ddfab2-0f32-4536-b28f-441e60473fdd')\"\n",
              "              title=\"Convert this dataframe to an interactive table.\"\n",
              "              style=\"display:none;\">\n",
              "        \n",
              "  <svg xmlns=\"http://www.w3.org/2000/svg\" height=\"24px\"viewBox=\"0 0 24 24\"\n",
              "       width=\"24px\">\n",
              "    <path d=\"M0 0h24v24H0V0z\" fill=\"none\"/>\n",
              "    <path d=\"M18.56 5.44l.94 2.06.94-2.06 2.06-.94-2.06-.94-.94-2.06-.94 2.06-2.06.94zm-11 1L8.5 8.5l.94-2.06 2.06-.94-2.06-.94L8.5 2.5l-.94 2.06-2.06.94zm10 10l.94 2.06.94-2.06 2.06-.94-2.06-.94-.94-2.06-.94 2.06-2.06.94z\"/><path d=\"M17.41 7.96l-1.37-1.37c-.4-.4-.92-.59-1.43-.59-.52 0-1.04.2-1.43.59L10.3 9.45l-7.72 7.72c-.78.78-.78 2.05 0 2.83L4 21.41c.39.39.9.59 1.41.59.51 0 1.02-.2 1.41-.59l7.78-7.78 2.81-2.81c.8-.78.8-2.07 0-2.86zM5.41 20L4 18.59l7.72-7.72 1.47 1.35L5.41 20z\"/>\n",
              "  </svg>\n",
              "      </button>\n",
              "      \n",
              "  <style>\n",
              "    .colab-df-container {\n",
              "      display:flex;\n",
              "      flex-wrap:wrap;\n",
              "      gap: 12px;\n",
              "    }\n",
              "\n",
              "    .colab-df-convert {\n",
              "      background-color: #E8F0FE;\n",
              "      border: none;\n",
              "      border-radius: 50%;\n",
              "      cursor: pointer;\n",
              "      display: none;\n",
              "      fill: #1967D2;\n",
              "      height: 32px;\n",
              "      padding: 0 0 0 0;\n",
              "      width: 32px;\n",
              "    }\n",
              "\n",
              "    .colab-df-convert:hover {\n",
              "      background-color: #E2EBFA;\n",
              "      box-shadow: 0px 1px 2px rgba(60, 64, 67, 0.3), 0px 1px 3px 1px rgba(60, 64, 67, 0.15);\n",
              "      fill: #174EA6;\n",
              "    }\n",
              "\n",
              "    [theme=dark] .colab-df-convert {\n",
              "      background-color: #3B4455;\n",
              "      fill: #D2E3FC;\n",
              "    }\n",
              "\n",
              "    [theme=dark] .colab-df-convert:hover {\n",
              "      background-color: #434B5C;\n",
              "      box-shadow: 0px 1px 3px 1px rgba(0, 0, 0, 0.15);\n",
              "      filter: drop-shadow(0px 1px 2px rgba(0, 0, 0, 0.3));\n",
              "      fill: #FFFFFF;\n",
              "    }\n",
              "  </style>\n",
              "\n",
              "      <script>\n",
              "        const buttonEl =\n",
              "          document.querySelector('#df-24ddfab2-0f32-4536-b28f-441e60473fdd button.colab-df-convert');\n",
              "        buttonEl.style.display =\n",
              "          google.colab.kernel.accessAllowed ? 'block' : 'none';\n",
              "\n",
              "        async function convertToInteractive(key) {\n",
              "          const element = document.querySelector('#df-24ddfab2-0f32-4536-b28f-441e60473fdd');\n",
              "          const dataTable =\n",
              "            await google.colab.kernel.invokeFunction('convertToInteractive',\n",
              "                                                     [key], {});\n",
              "          if (!dataTable) return;\n",
              "\n",
              "          const docLinkHtml = 'Like what you see? Visit the ' +\n",
              "            '<a target=\"_blank\" href=https://colab.research.google.com/notebooks/data_table.ipynb>data table notebook</a>'\n",
              "            + ' to learn more about interactive tables.';\n",
              "          element.innerHTML = '';\n",
              "          dataTable['output_type'] = 'display_data';\n",
              "          await google.colab.output.renderOutput(dataTable, element);\n",
              "          const docLink = document.createElement('div');\n",
              "          docLink.innerHTML = docLinkHtml;\n",
              "          element.appendChild(docLink);\n",
              "        }\n",
              "      </script>\n",
              "    </div>\n",
              "  </div>\n",
              "  "
            ],
            "text/plain": [
              "  閾値 結果\n",
              "0  0  6\n",
              "0  1  6\n",
              "0  2  6\n",
              "0  3  6\n",
              "0  4  6\n",
              "0  5  6\n",
              "0  6  8\n",
              "0  7  8\n",
              "0  8  9\n",
              "0  9  9"
            ]
          },
          "metadata": {},
          "execution_count": 141
        }
      ]
    },
    {
      "cell_type": "code",
      "source": [
        "arr = np.array(range(10))\n",
        "np.delete(arr, np.s_[:1:])"
      ],
      "metadata": {
        "id": "I-x0qCgtlbv5",
        "outputId": "917284e6-5a9b-441a-c733-ff7ce7ff135d",
        "colab": {
          "base_uri": "https://localhost:8080/"
        }
      },
      "id": "I-x0qCgtlbv5",
      "execution_count": 84,
      "outputs": [
        {
          "output_type": "execute_result",
          "data": {
            "text/plain": [
              "array([1, 2, 3, 4, 5, 6, 7, 8, 9])"
            ]
          },
          "metadata": {},
          "execution_count": 84
        }
      ]
    }
  ],
  "metadata": {
    "kernelspec": {
      "display_name": "Python 3 (ipykernel)",
      "language": "python",
      "name": "python3"
    },
    "language_info": {
      "codemirror_mode": {
        "name": "ipython",
        "version": 3
      },
      "file_extension": ".py",
      "mimetype": "text/x-python",
      "name": "python",
      "nbconvert_exporter": "python",
      "pygments_lexer": "ipython3",
      "version": "3.9.10"
    },
    "colab": {
      "name": "6-8.ipynb",
      "provenance": []
    }
  },
  "nbformat": 4,
  "nbformat_minor": 5
}